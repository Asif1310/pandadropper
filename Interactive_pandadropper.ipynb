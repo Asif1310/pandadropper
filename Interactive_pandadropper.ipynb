{
  "nbformat": 4,
  "nbformat_minor": 0,
  "metadata": {
    "colab": {
      "provenance": []
    },
    "kernelspec": {
      "name": "python3",
      "display_name": "Python 3"
    },
    "language_info": {
      "name": "python"
    }
  },
  "cells": [
    {
      "cell_type": "code",
      "execution_count": null,
      "metadata": {
        "id": "uRMnfZKxxQam"
      },
      "outputs": [],
      "source": [
        "import pandas as pd\n",
        "import ipywidgets as widgets\n",
        "from IPython.display import display"
      ]
    },
    {
      "cell_type": "code",
      "source": [
        "df = pd.read_csv('filepath')"
      ],
      "metadata": {
        "id": "1EG0Sb76xXcD"
      },
      "execution_count": null,
      "outputs": []
    },
    {
      "cell_type": "code",
      "source": [
        "checkboxes = [widgets.Checkbox(value=False, description=column) for column in df.columns]\n",
        "\n",
        "for checkbox in checkboxes:\n",
        "    checkbox.layout.width = 'auto'\n",
        "    checkbox.layout.margin = '10px'\n",
        "    checkbox.style.description_width = 'initial'\n",
        "    checkbox.style.font_weight = 'bold'\n",
        "    checkbox.style.font_size = '16px'\n",
        "    checkbox.style.description_color = '#333333'\n",
        "    checkbox.style.background_color = 'lightblue'\n",
        "\n",
        "df1 = df.copy()\n",
        "\n",
        "submit_button_keep = widgets.Button(\n",
        "    description='Keep only selected columns',\n",
        "    disabled=False,\n",
        "    button_style='', \n",
        "    tooltip='Submit',\n",
        "    icon='')\n",
        "\n",
        "submit_button_drop = widgets.Button(\n",
        "    description='Drop only selected columns',\n",
        "    disabled=False,\n",
        "    button_style='', \n",
        "    tooltip='Submit',\n",
        "    icon='')\n",
        "\n",
        "submit_button_rollback = widgets.Button(\n",
        "    description='Rollback to the initial version',\n",
        "    disabled=False,\n",
        "    button_style='', \n",
        "    tooltip='Submit',\n",
        "    icon='')\n",
        "\n",
        "def on_submit_button_click_keep(b):\n",
        "    selected_columns = [checkbox.description for checkbox in checkboxes if checkbox.value]\n",
        "    global df\n",
        "    df = df[selected_columns]\n",
        "    return df\n",
        "\n",
        "def on_submit_button_click_drop(b):\n",
        "    selected_columns = [checkbox.description for checkbox in checkboxes if checkbox.value]\n",
        "    global df\n",
        "    df = df.drop(selected_columns,axis = 1)\n",
        "    return df\n",
        "\n",
        "def on_submit_button_click_rollback(b):\n",
        "    global df\n",
        "    df = df1.copy()\n",
        "    return df\n",
        "   \n",
        "submit_button_keep.on_click(on_submit_button_click_keep)\n",
        "submit_button_drop.on_click(on_submit_button_click_drop)\n",
        "submit_button_rollback.on_click(on_submit_button_click_rollback)\n",
        "\n",
        "checkboxes_box = widgets.VBox(children=checkboxes)\n",
        "submit_box = widgets.VBox(children=[widgets.Label(value=''), submit_button_keep,submit_button_drop,submit_button_rollback])\n",
        "submit_box.layout.margin = '30px 0px 0px 20px'\n",
        "full_box = widgets.HBox(children=[checkboxes_box, submit_box])\n",
        "display(full_box)"
      ],
      "metadata": {
        "id": "hP85aAWdxSic"
      },
      "execution_count": null,
      "outputs": []
    }
  ]
}